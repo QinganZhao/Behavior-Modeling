{
 "cells": [
  {
   "cell_type": "code",
   "execution_count": null,
   "metadata": {
    "collapsed": true
   },
   "outputs": [],
   "source": [
    "# PS3 - CE264\n",
    "# GSI: Mustapha Harb - Mengqiao Yu - Andrew Campbell\n",
    "\n",
    "# importing the requried libraries\n",
    "from collections import OrderedDict    # For recording the model specification \n",
    "\n",
    "import pandas as pd                    # For file input/output\n",
    "import numpy as np                     # For vectorized math operations\n",
    "\n",
    "import pylogit as pl                   # For MNL model estimation and\n",
    "                                       # conversion from wide to long format\n",
    "\n",
    "# reading the data file \n",
    "wide_swiss_metro  = pd.read_csv(\"swissmetro.csv\",sep=\",\")"
   ]
  },
  {
   "cell_type": "code",
   "execution_count": null,
   "metadata": {
    "collapsed": true
   },
   "outputs": [],
   "source": [
    "# Create the list of individual specific variables\n",
    "ind_variables = wide_swiss_metro.columns.tolist()[:15]\n",
    "\n",
    "# Specify the variables that vary across individuals and some or all alternatives\n",
    "# The keys are the column names that will be used in the long format dataframe.\n",
    "# The values are dictionaries whose key-value pairs are the alternative id and\n",
    "# the column name of the corresponding column that encodes that variable for\n",
    "# the given alternative. Examples below.\n",
    "alt_varying_variables = {u'travel_time': dict([(1, 'TRAIN_TT'),\n",
    "                                               (2, 'SM_TT'),\n",
    "                                               (3, 'CAR_TT')]),\n",
    "                          u'travel_cost': dict([(1, 'TRAIN_CO'),\n",
    "                                                (2, 'SM_CO'),\n",
    "                                                (3, 'CAR_CO')]),\n",
    "                          u'headway': dict([(1, 'TRAIN_FR'),\n",
    "                                            (2, 'SM_FR')]),\n",
    "                          u'seat_configuration': dict([(2, \"SM_SEATS\")])}\n",
    "\n",
    "# Specify the availability variables\n",
    "# Note that the keys of the dictionary are the alternative id's.\n",
    "# The values are the columns denoting the availability for the\n",
    "# given mode in the dataset.\n",
    "availability_variables = {1: 'TRAIN_AV',\n",
    "                          2: 'SM_AV', \n",
    "                          3: 'CAR_AV'}\n",
    "\n",
    "##########\n",
    "# Determine the columns for: alternative ids, the observation ids and the choice\n",
    "##########\n",
    "# The 'custom_alt_id' is the name of a column to be created in the long-format data\n",
    "# It will identify the alternative associated with each row.\n",
    "custom_alt_id = \"mode_id\"\n",
    "\n",
    "# Create a custom id column that ignores the fact that this is a \n",
    "# panel/repeated-observations dataset. Note the +1 ensures the id's start at one.\n",
    "obs_id_column = \"custom_id\"\n",
    "wide_swiss_metro[obs_id_column] = np.arange(wide_swiss_metro.shape[0],\n",
    "                                            dtype=int) + 1\n",
    "\n",
    "\n",
    "# Create a variable recording the choice column\n",
    "choice_column = \"CHOICE\""
   ]
  },
  {
   "cell_type": "code",
   "execution_count": null,
   "metadata": {
    "collapsed": true
   },
   "outputs": [],
   "source": [
    "# Perform the conversion to long-format\n",
    "long_swiss_metro = pl.convert_wide_to_long(wide_swiss_metro, \n",
    "                                           ind_variables, \n",
    "                                           alt_varying_variables, \n",
    "                                           availability_variables, \n",
    "                                           obs_id_column, \n",
    "                                           choice_column,\n",
    "                                           new_alt_id_name=custom_alt_id)\n",
    "# Look at the resulting long-format dataframe\n",
    "long_swiss_metro.head(10).T"
   ]
  },
  {
   "cell_type": "code",
   "execution_count": null,
   "metadata": {
    "collapsed": true
   },
   "outputs": [],
   "source": [
    "##########\n",
    "# Create scaled variables so the estimated coefficients are of similar magnitudes\n",
    "##########\n",
    "# Scale the travel time column by 60 to convert raw units (minutes) to hours\n",
    "long_swiss_metro[\"travel_time_hrs\"] = long_swiss_metro[\"travel_time\"] / 60.0\n",
    "\n",
    "# Scale the headway column by 60 to convert raw units (minutes) to hours\n",
    "long_swiss_metro[\"headway_hrs\"] = long_swiss_metro[\"headway\"] / 60.0\n",
    "\n",
    "# specifying the utility equations\n",
    "\n",
    "# NOTE: - Specification and variable names must be ordered dictionaries.\n",
    "#       - Keys should be variables within the long format dataframe.\n",
    "#         The sole exception to this is the \"intercept\" key.\n",
    "#       - For the specification dictionary, the values should be lists\n",
    "#         of integers or or lists of lists of integers. Within a list, \n",
    "#         or within the inner-most list, the integers should be the \n",
    "#         alternative ID's of the alternative whose utility specification \n",
    "#         the explanatory variable is entering. Lists of lists denote \n",
    "#         alternatives that will share a common coefficient for the variable\n",
    "#         in question.\n",
    "\n",
    "basic_specification = OrderedDict()\n",
    "basic_names = OrderedDict()\n",
    "\n",
    "basic_specification[\"intercept\"] = [1, 2]\n",
    "basic_names[\"intercept\"] = ['ASC Train',\n",
    "                            'ASC Swissmetro']\n",
    "\n",
    "basic_specification[\"travel_time_hrs\"] = [[1, 2,], 3]\n",
    "basic_names[\"travel_time_hrs\"] = ['Travel Time, units:hrs (Train and Swissmetro)',\n",
    "                                  'Travel Time, units:hrs (Car)']\n",
    "\n",
    "basic_specification[\"headway_hrs\"] = [1, 2]\n",
    "basic_names[\"headway_hrs\"] = [\"Headway, units:hrs, (Train)\",\n",
    "                              \"Headway, units:hrs, (Swissmetro)\"]"
   ]
  },
  {
   "cell_type": "code",
   "execution_count": null,
   "metadata": {
    "collapsed": true
   },
   "outputs": [],
   "source": [
    "# Estimate the multinomial logit model (MNL)\n",
    "swissmetro_mnl = pl.create_choice_model(data=long_swiss_metro,\n",
    "                                        alt_id_col=custom_alt_id,\n",
    "                                        obs_id_col=obs_id_column,\n",
    "                                        choice_col=choice_column,\n",
    "                                        specification=basic_specification,\n",
    "                                        model_type=\"MNL\",\n",
    "                                        names=basic_names)\n",
    "\n",
    "# Specify the initial values and method for the optimization.\n",
    "swissmetro_mnl.fit_mle(np.zeros(6))\n",
    "\n"
   ]
  },
  {
   "cell_type": "code",
   "execution_count": null,
   "metadata": {
    "collapsed": true
   },
   "outputs": [],
   "source": [
    "# Look at the estimation results\n",
    "swissmetro_mnl.get_statsmodels_summary()"
   ]
  },
  {
   "cell_type": "code",
   "execution_count": null,
   "metadata": {
    "collapsed": true
   },
   "outputs": [],
   "source": []
  }
 ],
 "metadata": {
  "anaconda-cloud": {},
  "kernelspec": {
   "display_name": "Python 2",
   "language": "python",
   "name": "python2"
  },
  "language_info": {
   "codemirror_mode": {
    "name": "ipython",
    "version": 2
   },
   "file_extension": ".py",
   "mimetype": "text/x-python",
   "name": "python",
   "nbconvert_exporter": "python",
   "pygments_lexer": "ipython2",
   "version": "2.7.14"
  }
 },
 "nbformat": 4,
 "nbformat_minor": 1
}
